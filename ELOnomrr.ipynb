{
 "cells": [
  {
   "cell_type": "markdown",
   "metadata": {},
   "source": [
    "## Import Data"
   ]
  },
  {
   "cell_type": "code",
   "execution_count": 1,
   "metadata": {},
   "outputs": [
    {
     "data": {
      "text/plain": [
       "<bound method NDFrame.describe of    Unnamed: 0     1.1     2.1      3.1      4.1      5.1      6.1      7.1  \\\n",
       "0        John  1000.0  1016.0  1031.63  1046.18  1029.07  1043.77  1058.76   \n",
       "1      Justin  1000.0   984.0   966.90   983.65   965.14   948.28   929.50   \n",
       "2        Nate  1000.0  1016.0  1030.90  1044.72  1044.28  1058.25  1056.65   \n",
       "3        Nick  1000.0  1000.0   983.63   966.19   984.70  1000.53  1015.34   \n",
       "4        Shev  1000.0   984.0   983.63   966.19   966.64   949.78   931.86   \n",
       "5       Pfeff  1000.0  1000.0   998.90   996.69   999.99  1016.79  1031.63   \n",
       "6       Derek  1000.0   984.0   966.90   950.15   951.15   949.47   931.54   \n",
       "7        Sean  1000.0  1016.0  1015.63  1031.62  1047.17  1032.59  1045.88   \n",
       "8       Eddie  1000.0  1016.0  1030.90  1030.88  1016.70  1000.86  1001.31   \n",
       "9        Pete  1000.0   984.0   983.63   966.15   984.06   984.13   966.31   \n",
       "10      James     NaN     NaN      NaN      NaN      NaN      NaN      NaN   \n",
       "11       Zach     NaN     NaN      NaN      NaN      NaN      NaN      NaN   \n",
       "12       Loof     NaN     NaN      NaN      NaN      NaN      NaN      NaN   \n",
       "\n",
       "        8.1      9.1  ...      5.3      6.3      7.3      8.3      9.3  \\\n",
       "0   1073.48  1084.28  ...  1076.23  1067.20  1047.78  1060.26  1072.12   \n",
       "1    930.18   909.55  ...  1004.12  1005.75  1022.62  1033.29  1009.14   \n",
       "2   1043.21  1030.23  ...   983.15   958.12   974.43   953.19   971.59   \n",
       "3   1015.46   999.71  ...   919.20   938.87   944.08   916.71   935.97   \n",
       "4    951.64   933.92  ...   891.24   865.24   885.78   881.69   855.24   \n",
       "5   1015.77  1000.09  ...  1007.08   985.16   959.16   976.77   973.65   \n",
       "6    912.51   932.69  ...   838.50   860.26   856.84   829.75   819.30   \n",
       "7   1033.49  1048.25  ...  1002.38   977.97   956.52   934.31   911.82   \n",
       "8   1017.89  1034.10  ...   962.63   975.45   992.52  1009.49   981.85   \n",
       "9    982.18   997.89  ...      NaN      NaN      NaN      NaN      NaN   \n",
       "10      NaN      NaN  ...      NaN      NaN      NaN      NaN      NaN   \n",
       "11      NaN      NaN  ...      NaN      NaN      NaN      NaN      NaN   \n",
       "12      NaN      NaN  ...  1047.41  1061.64  1039.05  1027.96  1041.16   \n",
       "\n",
       "       10.3     11.3     12.3     13.3     14.3  \n",
       "0   1050.56  1062.36  1077.15  1086.15  1097.25  \n",
       "1   1027.12  1039.76  1019.33   997.50   977.14  \n",
       "2    949.98   940.31   919.66   895.07   881.76  \n",
       "3    955.67   946.13   961.77   939.35   938.86  \n",
       "4    875.54   845.94   842.00   837.60   808.29  \n",
       "5    953.22   948.99   923.03   898.34   918.95  \n",
       "6    813.10   815.86   840.16   862.30   853.75  \n",
       "7    889.63   863.96   844.01   838.18   810.42  \n",
       "8    977.20   951.65   970.30   984.37   999.38  \n",
       "9       NaN      NaN      NaN      NaN      NaN  \n",
       "10      NaN      NaN      NaN      NaN      NaN  \n",
       "11      NaN      NaN      NaN      NaN      NaN  \n",
       "12  1053.29  1062.78  1060.81  1074.69  1086.49  \n",
       "\n",
       "[13 rows x 43 columns]>"
      ]
     },
     "execution_count": 1,
     "metadata": {},
     "output_type": "execute_result"
    }
   ],
   "source": [
    "import pandas as pd\n",
    "import numpy as np\n",
    "\n",
    "et = pd.read_csv('ELOtimeline0mrr.csv')\n",
    "et.describe"
   ]
  },
  {
   "cell_type": "code",
   "execution_count": 2,
   "metadata": {},
   "outputs": [
    {
     "data": {
      "text/plain": [
       "<bound method NDFrame.describe of    Unnamed: 0     1.1     2.1     3.1     4.1     5.1     6.1     7.1     8.1  \\\n",
       "0        John  147.06  151.92  152.24  121.68  152.82  172.70  178.38  177.60   \n",
       "1      Justin  128.06  136.26  146.84  105.60  128.86  141.68  175.46  127.36   \n",
       "2        Nate  150.20  174.28  129.32  159.66  155.88  147.48  117.90  120.98   \n",
       "3        Nick  142.34  118.68  123.88  157.86  138.10  183.76  127.96  133.52   \n",
       "4        Shev  128.98  144.86  102.22  137.26  117.84  117.40  183.98  123.86   \n",
       "5       Pfeff  119.12  140.68  121.28  138.78  141.22  154.28   83.88  115.42   \n",
       "6       Derek   94.24  125.46  105.40  138.02  122.84  110.92   96.50  152.14   \n",
       "7        Sean  163.44  147.20  157.50  167.58  113.18  152.00  141.76  136.52   \n",
       "8       Eddie  169.74  141.84  146.86  132.46  115.98  128.58  170.02  157.34   \n",
       "9        Pete  121.42  133.76  119.64  243.70  153.24  134.14  183.98  157.10   \n",
       "10      James     NaN     NaN     NaN     NaN     NaN     NaN     NaN     NaN   \n",
       "11       Zach     NaN     NaN     NaN     NaN     NaN     NaN     NaN     NaN   \n",
       "12       Loof     NaN     NaN     NaN     NaN     NaN     NaN     NaN     NaN   \n",
       "\n",
       "       9.1  ...     5.3     6.3     7.3     8.3     9.3    10.3    11.3  \\\n",
       "0   151.54  ...  127.12   97.94  144.68  120.52   94.54  121.58  140.04   \n",
       "1   144.92  ...  141.00  122.22  152.80   85.06  125.82  127.40  119.56   \n",
       "2   121.50  ...   93.60  142.64  105.96  110.32   70.80   98.76  111.14   \n",
       "3   114.80  ...  141.76  121.30  110.52  141.94  188.70   90.90  126.80   \n",
       "4   136.16  ...   91.02  153.68  128.48   71.46  133.94  110.86  119.94   \n",
       "5   105.40  ...  133.38   96.24  156.76  121.64   99.70  111.72   89.88   \n",
       "6    80.14  ...  146.62  111.48  125.80   98.84  108.56  121.46  131.00   \n",
       "7   175.18  ...  103.28  107.38  104.32   80.58  101.08   84.74  108.80   \n",
       "8   113.16  ...  137.70  124.40  161.20  102.94  123.28   90.82  156.92   \n",
       "9   160.74  ...  150.94  115.90  126.66  145.24  133.94  112.22  136.96   \n",
       "10     NaN  ...     NaN     NaN     NaN     NaN     NaN     NaN     NaN   \n",
       "11     NaN  ...     NaN     NaN     NaN     NaN     NaN     NaN     NaN   \n",
       "12     NaN  ...  150.94  115.90  126.66  145.24  133.94  112.22  136.96   \n",
       "\n",
       "      12.3    13.3  14.3  \n",
       "0   180.64  115.26   NaN  \n",
       "1    64.60   79.62   NaN  \n",
       "2    75.22  111.48   NaN  \n",
       "3   115.94  150.64   NaN  \n",
       "4   149.98  108.50   NaN  \n",
       "5    91.10  127.42   NaN  \n",
       "6   138.16  111.88   NaN  \n",
       "7   100.18   58.10   NaN  \n",
       "8   164.08  139.32   NaN  \n",
       "9   179.12  161.84   NaN  \n",
       "10     NaN     NaN   NaN  \n",
       "11     NaN     NaN   NaN  \n",
       "12  179.12  161.84   NaN  \n",
       "\n",
       "[13 rows x 43 columns]>"
      ]
     },
     "execution_count": 2,
     "metadata": {},
     "output_type": "execute_result"
    }
   ],
   "source": [
    "st = pd.read_csv('ScoreTimeline.csv')\n",
    "st.describe"
   ]
  },
  {
   "cell_type": "markdown",
   "metadata": {},
   "source": [
    "## Rename Team Columns"
   ]
  },
  {
   "cell_type": "code",
   "execution_count": 3,
   "metadata": {},
   "outputs": [],
   "source": [
    "et1 = et.rename(columns = {'Unnamed: 0': 'Team'})\n",
    "st1 = st.rename(columns = {'Unnamed: 0': 'Team'})"
   ]
  },
  {
   "cell_type": "markdown",
   "metadata": {},
   "source": [
    "## Create bool Array"
   ]
  },
  {
   "cell_type": "code",
   "execution_count": 4,
   "metadata": {},
   "outputs": [
    {
     "data": {
      "text/plain": [
       "array([ True,  True,  True,  True,  True,  True,  True,  True,  True,\n",
       "        True,  True,  True,  True,  True,  True,  True,  True,  True,\n",
       "        True,  True,  True,  True,  True,  True,  True,  True,  True,\n",
       "        True,  True,  True,  True,  True,  True,  True,  True,  True,\n",
       "        True,  True,  True,  True,  True,  True,  True,  True,  True,\n",
       "        True,  True,  True,  True,  True,  True,  True,  True,  True,\n",
       "        True,  True,  True,  True,  True,  True,  True,  True,  True,\n",
       "        True,  True,  True,  True,  True,  True,  True,  True,  True,\n",
       "        True,  True,  True,  True,  True,  True,  True,  True,  True,\n",
       "        True,  True,  True,  True,  True,  True,  True,  True,  True,\n",
       "        True,  True,  True,  True,  True,  True,  True,  True,  True,\n",
       "        True,  True,  True,  True,  True,  True,  True,  True,  True,\n",
       "        True,  True,  True,  True,  True,  True,  True,  True,  True,\n",
       "        True,  True,  True,  True,  True,  True,  True,  True,  True,\n",
       "        True,  True,  True,  True,  True,  True,  True,  True,  True,\n",
       "        True,  True,  True,  True,  True,  True,  True,  True,  True,\n",
       "        True,  True,  True,  True,  True,  True,  True,  True,  True,\n",
       "        True,  True,  True,  True,  True,  True,  True,  True,  True,\n",
       "        True,  True,  True,  True,  True,  True,  True,  True,  True,\n",
       "        True,  True,  True,  True,  True,  True,  True,  True,  True,\n",
       "        True,  True,  True,  True,  True,  True,  True,  True,  True,\n",
       "        True,  True,  True])"
      ]
     },
     "execution_count": 4,
     "metadata": {},
     "output_type": "execute_result"
    }
   ],
   "source": [
    " results = np.ones((192), dtype=bool)\n",
    " results"
   ]
  },
  {
   "cell_type": "markdown",
   "metadata": {},
   "source": [
    "## Correct Result Matchup Function"
   ]
  },
  {
   "cell_type": "code",
   "execution_count": 5,
   "metadata": {},
   "outputs": [],
   "source": [
    "def matchup(matchupnumber, team1, team2, weeknumber):\n",
    "  if et1.loc[team1,weeknumber] > et1.loc[team2,weeknumber]:\n",
    "    if st1.loc[team1,weeknumber] > st1.loc[team2,weeknumber]:\n",
    "      results[matchupnumber] = True\n",
    "    else: results[matchupnumber] = False\n",
    "  else: \n",
    "    if st1.loc[team1,weeknumber] > st1.loc[team2,weeknumber]:\n",
    "      results[matchupnumber] = False\n",
    "    else: results[matchupnumber] = True"
   ]
  },
  {
   "cell_type": "markdown",
   "metadata": {},
   "source": [
    "## Import Matchups"
   ]
  },
  {
   "cell_type": "code",
   "execution_count": 6,
   "metadata": {},
   "outputs": [],
   "source": [
    "matchupsList = pd.read_csv('matchups.csv')"
   ]
  },
  {
   "cell_type": "code",
   "execution_count": 7,
   "metadata": {},
   "outputs": [
    {
     "data": {
      "text/html": [
       "<div>\n",
       "<style scoped>\n",
       "    .dataframe tbody tr th:only-of-type {\n",
       "        vertical-align: middle;\n",
       "    }\n",
       "\n",
       "    .dataframe tbody tr th {\n",
       "        vertical-align: top;\n",
       "    }\n",
       "\n",
       "    .dataframe thead th {\n",
       "        text-align: right;\n",
       "    }\n",
       "</style>\n",
       "<table border=\"1\" class=\"dataframe\">\n",
       "  <thead>\n",
       "    <tr style=\"text-align: right;\">\n",
       "      <th></th>\n",
       "      <th>matchupnumber</th>\n",
       "      <th>team1</th>\n",
       "      <th>team2</th>\n",
       "      <th>weeknumber</th>\n",
       "    </tr>\n",
       "  </thead>\n",
       "  <tbody>\n",
       "    <tr>\n",
       "      <th>0</th>\n",
       "      <td>0</td>\n",
       "      <td>0</td>\n",
       "      <td>6</td>\n",
       "      <td>4.1</td>\n",
       "    </tr>\n",
       "    <tr>\n",
       "      <th>1</th>\n",
       "      <td>1</td>\n",
       "      <td>1</td>\n",
       "      <td>4</td>\n",
       "      <td>4.1</td>\n",
       "    </tr>\n",
       "    <tr>\n",
       "      <th>2</th>\n",
       "      <td>2</td>\n",
       "      <td>2</td>\n",
       "      <td>7</td>\n",
       "      <td>4.1</td>\n",
       "    </tr>\n",
       "    <tr>\n",
       "      <th>3</th>\n",
       "      <td>3</td>\n",
       "      <td>3</td>\n",
       "      <td>5</td>\n",
       "      <td>4.1</td>\n",
       "    </tr>\n",
       "    <tr>\n",
       "      <th>4</th>\n",
       "      <td>4</td>\n",
       "      <td>8</td>\n",
       "      <td>9</td>\n",
       "      <td>4.1</td>\n",
       "    </tr>\n",
       "  </tbody>\n",
       "</table>\n",
       "</div>"
      ],
      "text/plain": [
       "   matchupnumber  team1  team2  weeknumber\n",
       "0              0      0      6         4.1\n",
       "1              1      1      4         4.1\n",
       "2              2      2      7         4.1\n",
       "3              3      3      5         4.1\n",
       "4              4      8      9         4.1"
      ]
     },
     "execution_count": 7,
     "metadata": {},
     "output_type": "execute_result"
    }
   ],
   "source": [
    "matchupsList.head()"
   ]
  },
  {
   "cell_type": "markdown",
   "metadata": {},
   "source": [
    "## Model Accuracy Total"
   ]
  },
  {
   "cell_type": "code",
   "execution_count": 8,
   "metadata": {},
   "outputs": [
    {
     "name": "stdout",
     "output_type": "stream",
     "text": [
      "False\n",
      "False\n",
      "False\n",
      "False\n",
      "False\n",
      "True\n",
      "True\n",
      "True\n",
      "False\n",
      "False\n",
      "False\n",
      "True\n",
      "True\n",
      "True\n",
      "True\n",
      "True\n",
      "True\n",
      "False\n",
      "True\n",
      "False\n",
      "True\n",
      "False\n",
      "True\n",
      "True\n",
      "True\n",
      "True\n",
      "False\n",
      "True\n",
      "True\n",
      "False\n",
      "True\n",
      "False\n",
      "True\n",
      "True\n",
      "True\n",
      "False\n",
      "False\n",
      "False\n",
      "False\n",
      "True\n",
      "True\n",
      "True\n",
      "False\n",
      "True\n",
      "True\n",
      "False\n",
      "False\n",
      "False\n",
      "True\n",
      "True\n",
      "False\n",
      "False\n",
      "True\n",
      "False\n",
      "False\n",
      "True\n",
      "True\n",
      "False\n",
      "False\n",
      "False\n",
      "True\n",
      "False\n",
      "False\n",
      "False\n",
      "False\n",
      "False\n",
      "False\n",
      "True\n",
      "True\n",
      "True\n",
      "True\n",
      "True\n",
      "False\n",
      "True\n",
      "True\n",
      "False\n",
      "False\n",
      "False\n",
      "True\n",
      "False\n",
      "True\n",
      "False\n",
      "False\n",
      "False\n",
      "True\n",
      "True\n",
      "False\n",
      "False\n",
      "False\n",
      "False\n",
      "False\n",
      "False\n",
      "False\n",
      "True\n",
      "True\n",
      "False\n",
      "True\n",
      "False\n",
      "False\n",
      "False\n",
      "True\n",
      "True\n",
      "False\n",
      "False\n",
      "True\n",
      "True\n",
      "True\n",
      "False\n",
      "True\n",
      "False\n",
      "True\n",
      "False\n",
      "True\n",
      "False\n",
      "True\n",
      "False\n",
      "True\n",
      "False\n",
      "False\n",
      "True\n",
      "False\n",
      "True\n",
      "True\n",
      "False\n",
      "False\n",
      "True\n",
      "False\n",
      "False\n",
      "False\n",
      "True\n",
      "False\n",
      "False\n",
      "True\n",
      "False\n",
      "True\n",
      "False\n",
      "True\n",
      "False\n",
      "True\n",
      "False\n",
      "True\n",
      "True\n",
      "False\n",
      "False\n",
      "False\n",
      "False\n",
      "False\n",
      "False\n",
      "True\n",
      "False\n",
      "False\n",
      "True\n",
      "True\n",
      "False\n",
      "False\n",
      "False\n",
      "False\n",
      "False\n",
      "True\n",
      "True\n",
      "True\n",
      "True\n",
      "True\n",
      "True\n",
      "False\n",
      "False\n",
      "False\n",
      "True\n",
      "False\n",
      "False\n",
      "False\n",
      "False\n",
      "True\n",
      "True\n",
      "True\n",
      "True\n",
      "False\n",
      "True\n",
      "False\n",
      "False\n",
      "False\n",
      "False\n",
      "False\n",
      "True\n",
      "False\n",
      "True\n",
      "False\n",
      "True\n",
      "True\n",
      "False\n",
      "True\n",
      "True\n"
     ]
    }
   ],
   "source": [
    "for i in range(0,192):\n",
    "  matchup(int(matchupsList.loc[i,'matchupnumber']), int(matchupsList.loc[i,'team1']), int(matchupsList.loc[i,'team2']), str(matchupsList.loc[i,'weeknumber']))\n",
    "  print(results[i])"
   ]
  },
  {
   "cell_type": "code",
   "execution_count": 9,
   "metadata": {},
   "outputs": [],
   "source": [
    "results_df = pd.DataFrame({'Correct': results})"
   ]
  },
  {
   "cell_type": "code",
   "execution_count": 10,
   "metadata": {},
   "outputs": [
    {
     "data": {
      "text/plain": [
       "False    0.541667\n",
       "True     0.458333\n",
       "Name: Correct, dtype: float64"
      ]
     },
     "execution_count": 10,
     "metadata": {},
     "output_type": "execute_result"
    }
   ],
   "source": [
    "results_df['Correct'].value_counts() / 192"
   ]
  },
  {
   "cell_type": "markdown",
   "metadata": {},
   "source": [
    "## Model Accuracy Season 1"
   ]
  },
  {
   "cell_type": "code",
   "execution_count": 11,
   "metadata": {
    "scrolled": true
   },
   "outputs": [
    {
     "data": {
      "text/plain": [
       "True     0.56\n",
       "False    0.44\n",
       "Name: Correct, dtype: float64"
      ]
     },
     "execution_count": 11,
     "metadata": {},
     "output_type": "execute_result"
    }
   ],
   "source": [
    "season_one = results_df.iloc[:50]\n",
    "season_one['Correct'].value_counts() / 50"
   ]
  },
  {
   "cell_type": "markdown",
   "metadata": {},
   "source": [
    "## Model Accuracy Season 2"
   ]
  },
  {
   "cell_type": "code",
   "execution_count": 12,
   "metadata": {},
   "outputs": [
    {
     "data": {
      "text/plain": [
       "False    0.589744\n",
       "True     0.423077\n",
       "Name: Correct, dtype: float64"
      ]
     },
     "execution_count": 12,
     "metadata": {},
     "output_type": "execute_result"
    }
   ],
   "source": [
    "season_two = results_df.iloc[49:128]\n",
    "season_two['Correct'].value_counts() / 78"
   ]
  },
  {
   "cell_type": "markdown",
   "metadata": {},
   "source": [
    "## Model Accuracy Season 3"
   ]
  },
  {
   "cell_type": "code",
   "execution_count": 13,
   "metadata": {},
   "outputs": [],
   "source": [
    "season_three = results_df.iloc[-65:]"
   ]
  },
  {
   "cell_type": "code",
   "execution_count": 14,
   "metadata": {
    "scrolled": true
   },
   "outputs": [
    {
     "data": {
      "text/plain": [
       "False    0.569231\n",
       "True     0.430769\n",
       "Name: Correct, dtype: float64"
      ]
     },
     "execution_count": 14,
     "metadata": {},
     "output_type": "execute_result"
    }
   ],
   "source": [
    "season_three['Correct'].value_counts() / 65"
   ]
  },
  {
   "cell_type": "code",
   "execution_count": null,
   "metadata": {},
   "outputs": [],
   "source": []
  },
  {
   "cell_type": "code",
   "execution_count": null,
   "metadata": {},
   "outputs": [],
   "source": []
  }
 ],
 "metadata": {
  "kernelspec": {
   "display_name": "Python 3",
   "language": "python",
   "name": "python3"
  },
  "language_info": {
   "codemirror_mode": {
    "name": "ipython",
    "version": 3
   },
   "file_extension": ".py",
   "mimetype": "text/x-python",
   "name": "python",
   "nbconvert_exporter": "python",
   "pygments_lexer": "ipython3",
   "version": "3.8.5"
  }
 },
 "nbformat": 4,
 "nbformat_minor": 4
}
