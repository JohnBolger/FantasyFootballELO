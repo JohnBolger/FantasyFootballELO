{
 "cells": [
  {
   "cell_type": "markdown",
   "metadata": {},
   "source": [
    "## Import Data"
   ]
  },
  {
   "cell_type": "code",
   "execution_count": 1,
   "metadata": {},
   "outputs": [
    {
     "data": {
      "text/plain": [
       "<bound method NDFrame.describe of    Unnamed: 0     1.1     2.1      3.1      4.1      5.1      6.1      7.1  \\\n",
       "0        John  1000.0  1016.0  1031.63  1046.18  1029.07  1043.77  1058.76   \n",
       "1      Justin  1000.0   984.0   966.90   983.65   965.14   948.28   929.50   \n",
       "2        Nate  1000.0  1016.0  1030.90  1044.72  1044.28  1058.25  1056.65   \n",
       "3        Nick  1000.0  1000.0   983.63   966.19   984.70  1000.53  1015.34   \n",
       "4        Shev  1000.0   984.0   983.63   966.19   966.64   949.78   931.86   \n",
       "5       Pfeff  1000.0  1000.0   998.90   996.69   999.99  1016.79  1031.63   \n",
       "6       Derek  1000.0   984.0   966.90   950.15   951.15   949.47   931.54   \n",
       "7        Sean  1000.0  1016.0  1015.63  1031.62  1047.17  1032.59  1045.88   \n",
       "8       Eddie  1000.0  1016.0  1030.90  1030.88  1016.70  1000.86  1001.31   \n",
       "9        Pete  1000.0   984.0   983.63   966.15   984.06   984.13   966.31   \n",
       "10      James     NaN     NaN      NaN      NaN      NaN      NaN      NaN   \n",
       "11       Zach     NaN     NaN      NaN      NaN      NaN      NaN      NaN   \n",
       "12       Loof     NaN     NaN      NaN      NaN      NaN      NaN      NaN   \n",
       "\n",
       "        8.1      9.1  ...      5.3      6.3      7.3      8.3      9.3  \\\n",
       "0   1073.48  1084.28  ...   992.01   983.87   961.48   978.92   995.00   \n",
       "1    930.18   909.55  ...  1009.64  1010.92  1027.49  1040.38  1017.68   \n",
       "2   1043.21  1030.23  ...   963.74   939.60   957.12   934.39   954.27   \n",
       "3   1015.46   999.71  ...   967.13   985.27   988.22   963.70   980.27   \n",
       "4    951.64   933.92  ...   964.05   940.10   958.75   956.13   930.82   \n",
       "5   1015.77  1000.09  ...  1000.88   977.55   952.73   970.13   968.13   \n",
       "6    912.51   932.69  ...   918.25   937.10   930.72   905.31   896.00   \n",
       "7   1033.49  1048.25  ...   963.37   938.57   915.84   892.66   868.25   \n",
       "8   1017.89  1034.10  ...   957.63   973.52   990.27  1006.68   981.25   \n",
       "9    982.18   997.89  ...      NaN      NaN      NaN      NaN      NaN   \n",
       "10      NaN      NaN  ...      NaN      NaN      NaN      NaN      NaN   \n",
       "11      NaN      NaN  ...      NaN      NaN      NaN      NaN      NaN   \n",
       "12      NaN      NaN  ...  1046.00  1059.84  1036.59  1027.18  1040.80   \n",
       "\n",
       "       10.3     11.3     12.3     13.3     14.3  \n",
       "0    971.21   986.60  1004.96  1018.40  1031.63  \n",
       "1   1033.73  1047.72  1027.09  1006.63   986.55  \n",
       "2    930.70   921.10   898.03   872.32   862.02  \n",
       "3    997.26   987.45  1001.68   978.74   978.51  \n",
       "4    948.34   920.64   913.28   911.18   884.88  \n",
       "5    945.33   943.47   916.79   891.58   913.11  \n",
       "6    887.33   890.07   910.82   931.27   921.95  \n",
       "7    843.57   817.97   794.61   790.15   762.84  \n",
       "8    978.26   952.45   971.76   986.12  1002.67  \n",
       "9       NaN      NaN      NaN      NaN      NaN  \n",
       "10      NaN      NaN      NaN      NaN      NaN  \n",
       "11      NaN      NaN      NaN      NaN      NaN  \n",
       "12  1053.69  1065.09  1064.86  1077.62  1090.35  \n",
       "\n",
       "[13 rows x 43 columns]>"
      ]
     },
     "execution_count": 1,
     "metadata": {},
     "output_type": "execute_result"
    }
   ],
   "source": [
    "import pandas as pd\n",
    "import numpy as np\n",
    "\n",
    "et = pd.read_csv('ELOTimeline.csv')\n",
    "et.describe"
   ]
  },
  {
   "cell_type": "code",
   "execution_count": 2,
   "metadata": {},
   "outputs": [
    {
     "data": {
      "text/plain": [
       "<bound method NDFrame.describe of    Unnamed: 0     1.1     2.1     3.1     4.1     5.1     6.1     7.1     8.1  \\\n",
       "0        John  147.06  151.92  152.24  121.68  152.82  172.70  178.38  177.60   \n",
       "1      Justin  128.06  136.26  146.84  105.60  128.86  141.68  175.46  127.36   \n",
       "2        Nate  150.20  174.28  129.32  159.66  155.88  147.48  117.90  120.98   \n",
       "3        Nick  142.34  118.68  123.88  157.86  138.10  183.76  127.96  133.52   \n",
       "4        Shev  128.98  144.86  102.22  137.26  117.84  117.40  183.98  123.86   \n",
       "5       Pfeff  119.12  140.68  121.28  138.78  141.22  154.28   83.88  115.42   \n",
       "6       Derek   94.24  125.46  105.40  138.02  122.84  110.92   96.50  152.14   \n",
       "7        Sean  163.44  147.20  157.50  167.58  113.18  152.00  141.76  136.52   \n",
       "8       Eddie  169.74  141.84  146.86  132.46  115.98  128.58  170.02  157.34   \n",
       "9        Pete  121.42  133.76  119.64  243.70  153.24  134.14  183.98  157.10   \n",
       "10      James     NaN     NaN     NaN     NaN     NaN     NaN     NaN     NaN   \n",
       "11       Zach     NaN     NaN     NaN     NaN     NaN     NaN     NaN     NaN   \n",
       "12       Loof     NaN     NaN     NaN     NaN     NaN     NaN     NaN     NaN   \n",
       "\n",
       "       9.1  ...     5.3     6.3     7.3     8.3     9.3    10.3    11.3  \\\n",
       "0   151.54  ...  127.12   97.94  144.68  120.52   94.54  121.58  140.04   \n",
       "1   144.92  ...  141.00  122.22  152.80   85.06  125.82  127.40  119.56   \n",
       "2   121.50  ...   93.60  142.64  105.96  110.32   70.80   98.76  111.14   \n",
       "3   114.80  ...  141.76  121.30  110.52  141.94  188.70   90.90  126.80   \n",
       "4   136.16  ...   91.02  153.68  128.48   71.46  133.94  110.86  119.94   \n",
       "5   105.40  ...  133.38   96.24  156.76  121.64   99.70  111.72   89.88   \n",
       "6    80.14  ...  146.62  111.48  125.80   98.84  108.56  121.46  131.00   \n",
       "7   175.18  ...  103.28  107.38  104.32   80.58  101.08   84.74  108.80   \n",
       "8   113.16  ...  137.70  124.40  161.20  102.94  123.28   90.82  156.92   \n",
       "9   160.74  ...  150.94  115.90  126.66  145.24  133.94  112.22  136.96   \n",
       "10     NaN  ...     NaN     NaN     NaN     NaN     NaN     NaN     NaN   \n",
       "11     NaN  ...     NaN     NaN     NaN     NaN     NaN     NaN     NaN   \n",
       "12     NaN  ...  150.94  115.90  126.66  145.24  133.94  112.22  136.96   \n",
       "\n",
       "      12.3    13.3  14.3  \n",
       "0   180.64  115.26   NaN  \n",
       "1    64.60   79.62   NaN  \n",
       "2    75.22  111.48   NaN  \n",
       "3   115.94  150.64   NaN  \n",
       "4   149.98  108.50   NaN  \n",
       "5    91.10  127.42   NaN  \n",
       "6   138.16  111.88   NaN  \n",
       "7   100.18   58.10   NaN  \n",
       "8   164.08  139.32   NaN  \n",
       "9   179.12  161.84   NaN  \n",
       "10     NaN     NaN   NaN  \n",
       "11     NaN     NaN   NaN  \n",
       "12  179.12  161.84   NaN  \n",
       "\n",
       "[13 rows x 43 columns]>"
      ]
     },
     "execution_count": 2,
     "metadata": {},
     "output_type": "execute_result"
    }
   ],
   "source": [
    "st = pd.read_csv('ScoreTimeline.csv')\n",
    "st.describe"
   ]
  },
  {
   "cell_type": "markdown",
   "metadata": {},
   "source": [
    "## Rename Team Columns"
   ]
  },
  {
   "cell_type": "code",
   "execution_count": 3,
   "metadata": {},
   "outputs": [],
   "source": [
    "et1 = et.rename(columns = {'Unnamed: 0': 'Team'})\n",
    "st1 = st.rename(columns = {'Unnamed: 0': 'Team'})"
   ]
  },
  {
   "cell_type": "markdown",
   "metadata": {},
   "source": [
    "## Create bool Array"
   ]
  },
  {
   "cell_type": "code",
   "execution_count": 4,
   "metadata": {},
   "outputs": [
    {
     "data": {
      "text/plain": [
       "array([ True,  True,  True,  True,  True,  True,  True,  True,  True,\n",
       "        True,  True,  True,  True,  True,  True,  True,  True,  True,\n",
       "        True,  True,  True,  True,  True,  True,  True,  True,  True,\n",
       "        True,  True,  True,  True,  True,  True,  True,  True,  True,\n",
       "        True,  True,  True,  True,  True,  True,  True,  True,  True,\n",
       "        True,  True,  True,  True,  True,  True,  True,  True,  True,\n",
       "        True,  True,  True,  True,  True,  True,  True,  True,  True,\n",
       "        True,  True,  True,  True,  True,  True,  True,  True,  True,\n",
       "        True,  True,  True,  True,  True,  True,  True,  True,  True,\n",
       "        True,  True,  True,  True,  True,  True,  True,  True,  True,\n",
       "        True,  True,  True,  True,  True,  True,  True,  True,  True,\n",
       "        True,  True,  True,  True,  True,  True,  True,  True,  True,\n",
       "        True,  True,  True,  True,  True,  True,  True,  True,  True,\n",
       "        True,  True,  True,  True,  True,  True,  True,  True,  True,\n",
       "        True,  True,  True,  True,  True,  True,  True,  True,  True,\n",
       "        True,  True,  True,  True,  True,  True,  True,  True,  True,\n",
       "        True,  True,  True,  True,  True,  True,  True,  True,  True,\n",
       "        True,  True,  True,  True,  True,  True,  True,  True,  True,\n",
       "        True,  True,  True,  True,  True,  True,  True,  True,  True,\n",
       "        True,  True,  True,  True,  True,  True,  True,  True,  True,\n",
       "        True,  True,  True,  True,  True,  True,  True,  True,  True,\n",
       "        True,  True,  True])"
      ]
     },
     "execution_count": 4,
     "metadata": {},
     "output_type": "execute_result"
    }
   ],
   "source": [
    " results = np.ones((192), dtype=bool)\n",
    " results"
   ]
  },
  {
   "cell_type": "markdown",
   "metadata": {},
   "source": [
    "## Correct Result Matchup Function"
   ]
  },
  {
   "cell_type": "code",
   "execution_count": 5,
   "metadata": {},
   "outputs": [],
   "source": [
    "def matchup(matchupnumber, team1, team2, weeknumber):\n",
    "  if et1.loc[team1,weeknumber] > et1.loc[team2,weeknumber]:\n",
    "    if st1.loc[team1,weeknumber] > st1.loc[team2,weeknumber]:\n",
    "      results[matchupnumber] = True\n",
    "    else: results[matchupnumber] = False\n",
    "  else: \n",
    "    if st1.loc[team1,weeknumber] > st1.loc[team2,weeknumber]:\n",
    "      results[matchupnumber] = False\n",
    "    else: results[matchupnumber] = True"
   ]
  },
  {
   "cell_type": "markdown",
   "metadata": {},
   "source": [
    "## Import Matchups"
   ]
  },
  {
   "cell_type": "code",
   "execution_count": 6,
   "metadata": {},
   "outputs": [],
   "source": [
    "matchupsList = pd.read_csv('matchups.csv')"
   ]
  },
  {
   "cell_type": "code",
   "execution_count": 7,
   "metadata": {},
   "outputs": [
    {
     "data": {
      "text/html": [
       "<div>\n",
       "<style scoped>\n",
       "    .dataframe tbody tr th:only-of-type {\n",
       "        vertical-align: middle;\n",
       "    }\n",
       "\n",
       "    .dataframe tbody tr th {\n",
       "        vertical-align: top;\n",
       "    }\n",
       "\n",
       "    .dataframe thead th {\n",
       "        text-align: right;\n",
       "    }\n",
       "</style>\n",
       "<table border=\"1\" class=\"dataframe\">\n",
       "  <thead>\n",
       "    <tr style=\"text-align: right;\">\n",
       "      <th></th>\n",
       "      <th>matchupnumber</th>\n",
       "      <th>team1</th>\n",
       "      <th>team2</th>\n",
       "      <th>weeknumber</th>\n",
       "    </tr>\n",
       "  </thead>\n",
       "  <tbody>\n",
       "    <tr>\n",
       "      <th>0</th>\n",
       "      <td>0</td>\n",
       "      <td>0</td>\n",
       "      <td>6</td>\n",
       "      <td>4.1</td>\n",
       "    </tr>\n",
       "    <tr>\n",
       "      <th>1</th>\n",
       "      <td>1</td>\n",
       "      <td>1</td>\n",
       "      <td>4</td>\n",
       "      <td>4.1</td>\n",
       "    </tr>\n",
       "    <tr>\n",
       "      <th>2</th>\n",
       "      <td>2</td>\n",
       "      <td>2</td>\n",
       "      <td>7</td>\n",
       "      <td>4.1</td>\n",
       "    </tr>\n",
       "    <tr>\n",
       "      <th>3</th>\n",
       "      <td>3</td>\n",
       "      <td>3</td>\n",
       "      <td>5</td>\n",
       "      <td>4.1</td>\n",
       "    </tr>\n",
       "    <tr>\n",
       "      <th>4</th>\n",
       "      <td>4</td>\n",
       "      <td>8</td>\n",
       "      <td>9</td>\n",
       "      <td>4.1</td>\n",
       "    </tr>\n",
       "  </tbody>\n",
       "</table>\n",
       "</div>"
      ],
      "text/plain": [
       "   matchupnumber  team1  team2  weeknumber\n",
       "0              0      0      6         4.1\n",
       "1              1      1      4         4.1\n",
       "2              2      2      7         4.1\n",
       "3              3      3      5         4.1\n",
       "4              4      8      9         4.1"
      ]
     },
     "execution_count": 7,
     "metadata": {},
     "output_type": "execute_result"
    }
   ],
   "source": [
    "matchupsList.head()"
   ]
  },
  {
   "cell_type": "markdown",
   "metadata": {},
   "source": [
    "## Model Accuracy Total"
   ]
  },
  {
   "cell_type": "code",
   "execution_count": 8,
   "metadata": {},
   "outputs": [
    {
     "name": "stdout",
     "output_type": "stream",
     "text": [
      "False\n",
      "False\n",
      "False\n",
      "False\n",
      "False\n",
      "True\n",
      "True\n",
      "True\n",
      "False\n",
      "False\n",
      "False\n",
      "True\n",
      "True\n",
      "True\n",
      "True\n",
      "True\n",
      "True\n",
      "False\n",
      "True\n",
      "False\n",
      "True\n",
      "False\n",
      "True\n",
      "True\n",
      "True\n",
      "True\n",
      "False\n",
      "True\n",
      "True\n",
      "False\n",
      "True\n",
      "False\n",
      "True\n",
      "True\n",
      "True\n",
      "False\n",
      "False\n",
      "False\n",
      "False\n",
      "True\n",
      "True\n",
      "True\n",
      "False\n",
      "True\n",
      "True\n",
      "False\n",
      "False\n",
      "False\n",
      "True\n",
      "True\n",
      "False\n",
      "False\n",
      "True\n",
      "False\n",
      "False\n",
      "True\n",
      "True\n",
      "False\n",
      "False\n",
      "True\n",
      "True\n",
      "False\n",
      "False\n",
      "False\n",
      "False\n",
      "False\n",
      "False\n",
      "True\n",
      "True\n",
      "False\n",
      "False\n",
      "True\n",
      "False\n",
      "True\n",
      "True\n",
      "False\n",
      "False\n",
      "False\n",
      "True\n",
      "False\n",
      "True\n",
      "False\n",
      "False\n",
      "False\n",
      "True\n",
      "True\n",
      "False\n",
      "False\n",
      "False\n",
      "False\n",
      "False\n",
      "False\n",
      "False\n",
      "True\n",
      "True\n",
      "False\n",
      "True\n",
      "False\n",
      "False\n",
      "False\n",
      "True\n",
      "True\n",
      "False\n",
      "False\n",
      "True\n",
      "True\n",
      "True\n",
      "False\n",
      "True\n",
      "False\n",
      "True\n",
      "False\n",
      "True\n",
      "False\n",
      "True\n",
      "False\n",
      "True\n",
      "False\n",
      "False\n",
      "True\n",
      "False\n",
      "True\n",
      "True\n",
      "False\n",
      "False\n",
      "True\n",
      "False\n",
      "False\n",
      "False\n",
      "True\n",
      "True\n",
      "False\n",
      "True\n",
      "False\n",
      "True\n",
      "False\n",
      "True\n",
      "False\n",
      "True\n",
      "False\n",
      "True\n",
      "True\n",
      "False\n",
      "False\n",
      "False\n",
      "False\n",
      "False\n",
      "False\n",
      "True\n",
      "False\n",
      "False\n",
      "True\n",
      "False\n",
      "False\n",
      "False\n",
      "False\n",
      "False\n",
      "True\n",
      "False\n",
      "True\n",
      "True\n",
      "True\n",
      "True\n",
      "False\n",
      "False\n",
      "False\n",
      "True\n",
      "True\n",
      "True\n",
      "True\n",
      "True\n",
      "False\n",
      "True\n",
      "True\n",
      "True\n",
      "True\n",
      "True\n",
      "True\n",
      "False\n",
      "False\n",
      "False\n",
      "True\n",
      "True\n",
      "True\n",
      "False\n",
      "True\n",
      "False\n",
      "True\n",
      "True\n",
      "False\n",
      "False\n",
      "True\n"
     ]
    }
   ],
   "source": [
    "for i in range(0,192):\n",
    "  matchup(int(matchupsList.loc[i,'matchupnumber']), int(matchupsList.loc[i,'team1']), int(matchupsList.loc[i,'team2']), str(matchupsList.loc[i,'weeknumber']))\n",
    "  print(results[i])"
   ]
  },
  {
   "cell_type": "code",
   "execution_count": 9,
   "metadata": {},
   "outputs": [],
   "source": [
    "results_df = pd.DataFrame({'Correct': results})"
   ]
  },
  {
   "cell_type": "code",
   "execution_count": 10,
   "metadata": {},
   "outputs": [
    {
     "data": {
      "text/plain": [
       "False    0.520833\n",
       "True     0.479167\n",
       "Name: Correct, dtype: float64"
      ]
     },
     "execution_count": 10,
     "metadata": {},
     "output_type": "execute_result"
    }
   ],
   "source": [
    "results_df['Correct'].value_counts() / 192"
   ]
  },
  {
   "cell_type": "markdown",
   "metadata": {},
   "source": [
    "## Model Accuracy Season 1"
   ]
  },
  {
   "cell_type": "code",
   "execution_count": 11,
   "metadata": {
    "scrolled": true
   },
   "outputs": [
    {
     "data": {
      "text/plain": [
       "True     0.56\n",
       "False    0.44\n",
       "Name: Correct, dtype: float64"
      ]
     },
     "execution_count": 11,
     "metadata": {},
     "output_type": "execute_result"
    }
   ],
   "source": [
    "season_one = results_df.iloc[:50]\n",
    "season_one['Correct'].value_counts() / 50"
   ]
  },
  {
   "cell_type": "markdown",
   "metadata": {},
   "source": [
    "## Model Accuracy Season 2"
   ]
  },
  {
   "cell_type": "code",
   "execution_count": 12,
   "metadata": {},
   "outputs": [
    {
     "data": {
      "text/plain": [
       "False    0.602564\n",
       "True     0.410256\n",
       "Name: Correct, dtype: float64"
      ]
     },
     "execution_count": 12,
     "metadata": {},
     "output_type": "execute_result"
    }
   ],
   "source": [
    "season_two = results_df.iloc[49:128]\n",
    "season_two['Correct'].value_counts() / 78"
   ]
  },
  {
   "cell_type": "markdown",
   "metadata": {},
   "source": [
    "## Model Accuracy Season 3"
   ]
  },
  {
   "cell_type": "code",
   "execution_count": 13,
   "metadata": {},
   "outputs": [],
   "source": [
    "season_three = results_df.iloc[-65:]"
   ]
  },
  {
   "cell_type": "code",
   "execution_count": 14,
   "metadata": {
    "scrolled": true
   },
   "outputs": [
    {
     "data": {
      "text/plain": [
       "True     0.507692\n",
       "False    0.492308\n",
       "Name: Correct, dtype: float64"
      ]
     },
     "execution_count": 14,
     "metadata": {},
     "output_type": "execute_result"
    }
   ],
   "source": [
    "season_three['Correct'].value_counts() / 65"
   ]
  },
  {
   "cell_type": "code",
   "execution_count": null,
   "metadata": {},
   "outputs": [],
   "source": []
  },
  {
   "cell_type": "code",
   "execution_count": null,
   "metadata": {},
   "outputs": [],
   "source": []
  }
 ],
 "metadata": {
  "kernelspec": {
   "display_name": "Python 3",
   "language": "python",
   "name": "python3"
  },
  "language_info": {
   "codemirror_mode": {
    "name": "ipython",
    "version": 3
   },
   "file_extension": ".py",
   "mimetype": "text/x-python",
   "name": "python",
   "nbconvert_exporter": "python",
   "pygments_lexer": "ipython3",
   "version": "3.8.5"
  }
 },
 "nbformat": 4,
 "nbformat_minor": 4
}
